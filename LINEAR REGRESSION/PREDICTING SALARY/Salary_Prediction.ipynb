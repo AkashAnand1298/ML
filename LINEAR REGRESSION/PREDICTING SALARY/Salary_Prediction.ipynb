{
 "cells": [
  {
   "cell_type": "code",
   "execution_count": 1,
   "metadata": {},
   "outputs": [],
   "source": [
    "import pickle "
   ]
  },
  {
   "cell_type": "code",
   "execution_count": 2,
   "metadata": {},
   "outputs": [
    {
     "name": "stdout",
     "output_type": "stream",
     "text": [
      "Salry: \n",
      "[45475.90813433]\n"
     ]
    },
    {
     "name": "stderr",
     "output_type": "stream",
     "text": [
      "/Users/akashanand/opt/anaconda3/lib/python3.9/site-packages/sklearn/base.py:450: UserWarning: X does not have valid feature names, but LinearRegression was fitted with feature names\n",
      "  warnings.warn(\n"
     ]
    }
   ],
   "source": [
    "file = open(\"Salary.pkl\",\"rb\")\n",
    "clf = pickle.load(file)\n",
    "file.close()\n",
    "year_exp = float(input(\"Enter years of experiance: \"))\n",
    "input_features = [[year_exp]]\n",
    "salary_prediction = clf.predict(input_features)\n",
    "print(\"Salry: \")\n",
    "print(salary_prediction)"
   ]
  }
 ],
 "metadata": {
  "kernelspec": {
   "display_name": "Python 3.9.13 ('base')",
   "language": "python",
   "name": "python3"
  },
  "language_info": {
   "codemirror_mode": {
    "name": "ipython",
    "version": 3
   },
   "file_extension": ".py",
   "mimetype": "text/x-python",
   "name": "python",
   "nbconvert_exporter": "python",
   "pygments_lexer": "ipython3",
   "version": "3.9.13"
  },
  "orig_nbformat": 4,
  "vscode": {
   "interpreter": {
    "hash": "73df42c98a455afa3b21b2da084176d35e850986d9bebdc3e46072c2a2008a61"
   }
  }
 },
 "nbformat": 4,
 "nbformat_minor": 2
}
